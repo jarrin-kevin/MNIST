{
  "cells": [
    {
      "cell_type": "markdown",
      "metadata": {
        "id": "IL2Y-R2cSRRx"
      },
      "source": [
        "<h1><font color=\"#113D68\" size=6>Deep Learning con Python y Keras VIDEO</font></h1>\n",
        "\n",
        "<h1><font color=\"#113D68\" size=5>Redes Neuronales Convolucionales</font></h1>\n",
        "\n",
        "<h1><font color=\"#113D68\" size=4>Reconocimiento de dígitos</font></h1>\n"
      ]
    },
    {
      "cell_type": "markdown",
      "metadata": {
        "id": "MLQjLiSoSRRz"
      },
      "source": [
        "---\n",
        "\n",
        "<a id=\"indice\"></a>\n",
        "<h2><font color=\"#004D7F\" size=5>Índice</font></h2>\n",
        "\n",
        "* [0. Contexto](#section0)\n",
        "* [1. MNIST dataset](#section1)\n",
        "* [2. Cargar MNIST](#section2)\n",
        "* [3. Modelo de línea de base con MLP](#section3)\n",
        "* [4. Prediccion de datos](#section4)\n"
      ]
    },
    {
      "cell_type": "markdown",
      "metadata": {
        "id": "44g6jqHaSRRz"
      },
      "source": [
        "---\n",
        "<a id=\"section0\"></a>\n",
        "# <font color=\"#004D7F\" size=6> 0. Contexto</font>"
      ]
    },
    {
      "cell_type": "markdown",
      "metadata": {
        "id": "BqZE0Q1pSRR0"
      },
      "source": [
        "En este proyecto, descubrirá cómo desarrollar un modelo de Deep Learning en la tarea de reconocimiento de dígitos manuscritos del MNIST. Después de completar este trabajo sabrá:\n",
        "* Cómo cargar MNIST y desarrollar un modelo de red neuronal.\n",
        "* Cómo implementar un modelo de Deep Learning avanzado para MNIST."
      ]
    },
    {
      "cell_type": "code",
      "execution_count": 50,
      "metadata": {
        "id": "1QXC31fdSRR0"
      },
      "outputs": [],
      "source": [
        "import tensorflow as tf\n",
        "tf.compat.v1.logging.set_verbosity(tf.compat.v1.logging.ERROR)"
      ]
    },
    {
      "cell_type": "markdown",
      "metadata": {
        "id": "1apdrtcwSRR1"
      },
      "source": [
        "---\n",
        "<div style=\"text-align: right\"> <font size=5> <a href=\"#indice\"><i class=\"fa fa-arrow-circle-up\" aria-hidden=\"true\" style=\"color:#004D7F\"></i></a></font></div>\n",
        "\n",
        "---"
      ]
    },
    {
      "cell_type": "markdown",
      "metadata": {
        "id": "WavhM1dJSRR1"
      },
      "source": [
        "<a id=\"section1\"></a>\n",
        "# <font color=\"#004D7F\" size=6>1. MNIST dataset</font>"
      ]
    },
    {
      "cell_type": "markdown",
      "metadata": {
        "id": "1J2-A6TFSRR1"
      },
      "source": [
        "MNIST toma imágenes de dígitos de una variedad de documentos escaneados, normalizados en tamaño y centrados.\n",
        "\n",
        "Cada imagen es está dada en blanco y negro con $28 × 28$ píxeles (784 píxeles en total). Se usan 60,000 imágenes para entrenar un modelo y 10,000 imágenes para validarlo.\n",
        "\n",
        "Es una tarea de reconocimiento de dígitos. Como tal, hay 10 dígitos (0 a 9) o 10 clases para predecir. \n",
        "\n"
      ]
    },
    {
      "cell_type": "markdown",
      "metadata": {
        "id": "z4U8Gh4fSRR1"
      },
      "source": [
        "<div class=\"alert alert-block alert-info\">\n",
        "    \n",
        "<i class=\"fa fa-info-circle\" aria-hidden=\"true\"></i>\n",
        "Más información sobre el dataset [MNIST](http://yann.lecun.com/exdb/mnist/)"
      ]
    },
    {
      "cell_type": "markdown",
      "metadata": {
        "id": "bu007ymqSRR2"
      },
      "source": [
        "<a id=\"section2\"></a>\n",
        "# <font color=\"#004D7F\" size=6>2. Cargar MNIST</font>"
      ]
    },
    {
      "cell_type": "markdown",
      "metadata": {
        "id": "ZJ40B-A8SRR2"
      },
      "source": [
        "El conjunto de datos se descarga automáticamente la primera vez que se llama a esta función como un archivo de 15 megabytes. \n",
        "\n",
        "Primero escribiremos un pequeño script para descargar y visualizar las primeras 4 imágenes mediante la función `mnist.load data()`."
      ]
    },
    {
      "cell_type": "code",
      "execution_count": 51,
      "metadata": {
        "colab": {
          "base_uri": "https://localhost:8080/",
          "height": 320
        },
        "id": "pPFLJeSPSRR2",
        "outputId": "1ebc4156-b9d6-4453-b538-de28ac9f226b"
      },
      "outputs": [
        {
          "output_type": "display_data",
          "data": {
            "text/plain": [
              "<Figure size 432x288 with 4 Axes>"
            ],
            "image/png": "[encoded data removed]"
          },
          "metadata": {
            "needs_background": "light"
          }
        },
        {
          "output_type": "stream",
          "name": "stdout",
          "text": [
            "(60000, 28, 28)\n",
            "3\n",
            "uint8\n"
          ]
        }
      ],
      "source": [
        "from keras.datasets import mnist\n",
        "import matplotlib.pyplot as plt\n",
        "\n",
        "# cargar los datos MNIST dataset\n",
        "(X_train,y_train) , (X_test, y_test)=mnist.load_data()\n",
        "\n",
        "# 4 imagenes\n",
        "plt.subplot(221)\n",
        "plt.imshow(X_train[0],cmap=plt.get_cmap('gray'))\n",
        "plt.subplot(222)\n",
        "plt.imshow(X_train[1],cmap=plt.get_cmap('gray'))\n",
        "plt.subplot(223)\n",
        "plt.imshow(X_train[2],cmap=plt.get_cmap('gray'))\n",
        "plt.subplot(224)\n",
        "plt.imshow(X_train[8],cmap=plt.get_cmap('gray'))\n",
        "# show the plot\n",
        "plt.show()\n",
        "print(X_train.shape)\n",
        "print(X_train.ndim)\n",
        "print(X_train.dtype)"
      ]
    },
    {
      "cell_type": "markdown",
      "metadata": {
        "id": "ad2-YgOkSRR3"
      },
      "source": [
        "<a id=\"section3\"></a>\n",
        "# <font color=\"#004D7F\" size=6>3. MLP de línea base</font>"
      ]
    },
    {
      "cell_type": "markdown",
      "metadata": {
        "id": "ETF7Dfj_SRR3"
      },
      "source": [
        "Vamos a usar un MLP clásico como base para la comparación con modelos de redes neuronales convolucionales. \n",
        "\n",
        "Importamos las clases, funciones y el dataset MNIST."
      ]
    },
    {
      "cell_type": "code",
      "execution_count": 52,
      "metadata": {
        "id": "FqPaHCeYSRR3"
      },
      "outputs": [],
      "source": [
        "# mas librerias\n",
        "from keras.models import Sequential\n",
        "from keras.layers import Dense\n",
        "from keras.utils import np_utils\n",
        "# cargar data\n",
        "(X_train,y_train) , (X_test, y_test)=mnist.load_data()\n"
      ]
    },
    {
      "cell_type": "markdown",
      "metadata": {
        "id": "egZaX3nWSRR3"
      },
      "source": [
        "Para un MLP clásico debemos reducir las imágenes a un vector de píxeles. En este caso, las imágenes de tamaño $28 × 28$ serán vectores de entrada de 784 píxeles. \n",
        "\n",
        "Realizamos esta transformación meidante la función `reshape()`. \n",
        "\n",
        "Los valores de los píxeles son números enteros, por lo que los convertimos a punto flotante para poder normalizarlos."
      ]
    },
    {
      "cell_type": "code",
      "execution_count": 53,
      "metadata": {
        "colab": {
          "base_uri": "https://localhost:8080/"
        },
        "id": "u9ObrQe4SRR4",
        "outputId": "bc3b8493-6d2a-4201-8916-3dd47ff203e2"
      },
      "outputs": [
        {
          "output_type": "execute_result",
          "data": {
            "text/plain": [
              "array([[0., 0., 0., ..., 0., 0., 0.],\n",
              "       [0., 0., 0., ..., 0., 0., 0.],\n",
              "       [0., 0., 0., ..., 0., 0., 0.],\n",
              "       ...,\n",
              "       [0., 0., 0., ..., 0., 0., 0.],\n",
              "       [0., 0., 0., ..., 0., 0., 0.],\n",
              "       [0., 0., 0., ..., 0., 0., 0.]], dtype=float32)"
            ]
          },
          "metadata": {},
          "execution_count": 53
        }
      ],
      "source": [
        "# escalar los valores enteros a flotantes y hacer una normalizacion de los mismos\n",
        "\n",
        "num_pixels= X_train.shape[1] * X_train.shape[2]# sacar el numero de pixels en total 784\n",
        " \n",
        "#convertir el tensor de imagen a un vector de una sola dimension y convertir a flotante\n",
        "X_train=X_train.reshape(X_train.shape[0],num_pixels).astype('float32') #X_train.shape[0]=60000\n",
        "X_test=X_test.reshape(X_test.shape[0],num_pixels).astype('float32')\n",
        "\n",
        "X_train\n"
      ]
    },
    {
      "cell_type": "markdown",
      "metadata": {
        "id": "lwqbkWwFSRR4"
      },
      "source": [
        "**Normalizacion**\n",
        "Los valores de los píxeles están en una escala de grises entre 0 y 255. Podemos normalizar los valores de los píxeles en el rango 0 y 1 dividiendo cada valor por el máximo valor, i.e., 255. Se realiza este proceso para que la red neurnal tenga la facilidad de converjer durante el entrenamiento. Para alimentar redes neuronales no se utiliza valores mayores a los pesos de un red, o datos que sean heteregoneos entre ellos"
      ]
    },
    {
      "cell_type": "code",
      "execution_count": 54,
      "metadata": {
        "id": "_LxOGirvSRR4"
      },
      "outputs": [],
      "source": [
        "#pasar datos entre 0 y 1\n",
        "X_train=X_train/255\n",
        "X_test=X_test/255"
      ]
    },
    {
      "cell_type": "markdown",
      "metadata": {
        "id": "dDDCCF-3SRR4"
      },
      "source": [
        "Finalmente, la variable de salida es un número entero de 0 a 9. Por tanto, usaremos One-Hot Encoding para transformar el vector de enteros de clase en una matriz binaria. \n",
        "\n",
        "La finalidad de esto es transformar las variables categoricas a numericas"
      ]
    },
    {
      "cell_type": "code",
      "execution_count": 55,
      "metadata": {
        "id": "YvptHL1wSRR4"
      },
      "outputs": [],
      "source": [
        "# se transformo la entrada a binaria tambien se procede a transformar los valores de salida en binarios\n",
        "y_train=np_utils.to_categorical(y_train)\n",
        "y_test=np_utils.to_categorical(y_test)\n",
        "num_classes=y_test.shape[1]\n"
      ]
    },
    {
      "cell_type": "markdown",
      "metadata": {
        "id": "bo3q3JQLSRR4"
      },
      "source": [
        "Vamos a definir nuestro modelo:\n",
        "1. El número de entradas será el tamaño máximo de pixeles (784)\n",
        "2. Tendrá una capa oculta con el mismo número de neuronas que entradas (784). \n",
        "3. Se utiliza una función de activación ReLU en la capa oculta. \n",
        "4. Se utiliza una función de activación Softmax en la capa de salida. \n",
        "5. La función de pérdida será `categorical_crossentropy`. \n",
        "6. Utilizaremos ADAM para aprender los pesos. \n"
      ]
    },
    {
      "cell_type": "code",
      "execution_count": 56,
      "metadata": {
        "id": "Aqvs8_W4SRR5"
      },
      "outputs": [],
      "source": [
        "# funcion del modelo\n",
        "def baseline_model():\n",
        "    \n",
        "    model=Sequential()\n",
        "    model.add(Dense(num_pixels,input_dim=num_pixels,activation='relu'))\n",
        "    model.add(Dense(num_classes, activation='softmax'))\n",
        "    # Compilar el modelo\n",
        "    model.compile(loss='categorical_crossentropy', optimizer='adam', metrics=['accuracy'])\n",
        "    return model"
      ]
    },
    {
      "cell_type": "markdown",
      "metadata": {
        "id": "AA8TRh2CSRR5"
      },
      "source": [
        "Entrenamos y evaluamos el modelo. \n",
        "1. El modelo se ajusta a más de 10 épocas con actualizaciones cada 200 imágenes. Actualizacion de sus pesos cada 200 imagenes\n",
        "2. Los datos de test se utilizan como conjunto de datos de validación.\n",
        "3. Se utiliza un valor `verbose` de 2. \n",
        "4. Evaluamos en test e imprimimos las métricas."
      ]
    },
    {
      "cell_type": "code",
      "execution_count": 57,
      "metadata": {
        "colab": {
          "base_uri": "https://localhost:8080/"
        },
        "id": "Mrsb_3HeSRR5",
        "outputId": "a2193b85-3608-4951-826d-bde4c5d458b9"
      },
      "outputs": [
        {
          "output_type": "stream",
          "name": "stdout",
          "text": [
            "Epoch 1/10\n",
            "300/300 - 1s - loss: 0.2824 - accuracy: 0.9193 - val_loss: 0.1434 - val_accuracy: 0.9605 - 1s/epoch - 4ms/step\n",
            "Epoch 2/10\n",
            "300/300 - 1s - loss: 0.1106 - accuracy: 0.9676 - val_loss: 0.0893 - val_accuracy: 0.9731 - 866ms/epoch - 3ms/step\n",
            "Epoch 3/10\n",
            "300/300 - 1s - loss: 0.0721 - accuracy: 0.9789 - val_loss: 0.0802 - val_accuracy: 0.9763 - 847ms/epoch - 3ms/step\n",
            "Epoch 4/10\n",
            "300/300 - 1s - loss: 0.0518 - accuracy: 0.9849 - val_loss: 0.0722 - val_accuracy: 0.9773 - 833ms/epoch - 3ms/step\n",
            "Epoch 5/10\n",
            "300/300 - 1s - loss: 0.0366 - accuracy: 0.9896 - val_loss: 0.0638 - val_accuracy: 0.9798 - 813ms/epoch - 3ms/step\n",
            "Epoch 6/10\n",
            "300/300 - 1s - loss: 0.0273 - accuracy: 0.9924 - val_loss: 0.0613 - val_accuracy: 0.9809 - 809ms/epoch - 3ms/step\n",
            "Epoch 7/10\n",
            "300/300 - 1s - loss: 0.0198 - accuracy: 0.9950 - val_loss: 0.0593 - val_accuracy: 0.9824 - 777ms/epoch - 3ms/step\n",
            "Epoch 8/10\n",
            "300/300 - 1s - loss: 0.0151 - accuracy: 0.9967 - val_loss: 0.0603 - val_accuracy: 0.9809 - 788ms/epoch - 3ms/step\n",
            "Epoch 9/10\n",
            "300/300 - 1s - loss: 0.0113 - accuracy: 0.9976 - val_loss: 0.0619 - val_accuracy: 0.9815 - 844ms/epoch - 3ms/step\n",
            "Epoch 10/10\n",
            "300/300 - 1s - loss: 0.0088 - accuracy: 0.9984 - val_loss: 0.0608 - val_accuracy: 0.9821 - 809ms/epoch - 3ms/step\n",
            "error del modelo es: 1.79%\n"
          ]
        }
      ],
      "source": [
        "# contruir modelo\n",
        "model = baseline_model()\n",
        "\n",
        "# ajustar el modelo\n",
        "model.fit(X_train,y_train,validation_data=(X_test,y_test),epochs=10,batch_size=200,verbose=2)\n",
        "\n",
        "# Evaluacion del modelo\n",
        "score=model.evaluate(X_test,y_test,verbose=0)\n",
        "print(\"error del modelo es: %.2f%%\" %(100-score[1]*100))"
      ]
    },
    {
      "cell_type": "markdown",
      "source": [
        "<a id=\"section4\"></a>\n",
        "# <font color=\"#004D7F\" size=6> 4. Prediccion de datos</font>"
      ],
      "metadata": {
        "id": "yjDejJqwFV9J"
      }
    },
    {
      "cell_type": "code",
      "source": [
        "x_test_old = X_test.reshape(10000, 28,28)\n",
        "plt.imshow(x_test_old[50], cmap=plt.cm.binary)"
      ],
      "metadata": {
        "colab": {
          "base_uri": "https://localhost:8080/",
          "height": 282
        },
        "id": "c_d0HqnSAsxP",
        "outputId": "42925157-ff24-4784-82d2-f9cb9f2073f6"
      },
      "execution_count": 60,
      "outputs": [
        {
          "output_type": "execute_result",
          "data": {
            "text/plain": [
              "<matplotlib.image.AxesImage at 0x7f0f2c2f1130>"
            ]
          },
          "metadata": {},
          "execution_count": 60
        },
        {
          "output_type": "display_data",
          "data": {
            "text/plain": [
              "<Figure size 432x288 with 1 Axes>"
            ],
            "image/png": "[encoded data removed]"
          },
          "metadata": {
            "needs_background": "light"
          }
        }
      ]
    },
    {
      "cell_type": "code",
      "source": [
        "import numpy as np\n",
        "predictions=model.predict(X_test)\n",
        "np.argmax(predictions[50])"
      ],
      "metadata": {
        "colab": {
          "base_uri": "https://localhost:8080/"
        },
        "id": "MaNth7f9Fokh",
        "outputId": "c74b264d-8473-4f27-ad06-95e1902dc2ce"
      },
      "execution_count": 61,
      "outputs": [
        {
          "output_type": "stream",
          "name": "stdout",
          "text": [
            "313/313 [==============================] - 0s 1ms/step\n"
          ]
        },
        {
          "output_type": "execute_result",
          "data": {
            "text/plain": [
              "6"
            ]
          },
          "metadata": {},
          "execution_count": 61
        }
      ]
    },
    {
      "cell_type": "markdown",
      "metadata": {
        "id": "rZIf-_kYSRR5"
      },
      "source": [
        "---\n",
        "<div style=\"text-align: right\"> <font size=5> <a href=\"#indice\"><i class=\"fa fa-arrow-circle-up\" aria-hidden=\"true\" style=\"color:#004D7F\"></i></a></font></div>\n",
        "\n",
        "---"
      ]
    }
  ],
  "metadata": {
    "kernelspec": {
      "display_name": "Python 3",
      "language": "python",
      "name": "python3"
    },
    "language_info": {
      "codemirror_mode": {
        "name": "ipython",
        "version": 3
      },
      "file_extension": ".py",
      "mimetype": "text/x-python",
      "name": "python",
      "nbconvert_exporter": "python",
      "pygments_lexer": "ipython3",
      "version": "3.6.9"
    },
    "colab": {
      "provenance": []
    },
    "accelerator": "GPU",
    "gpuClass": "standard"
  },
  "nbformat": 4,
  "nbformat_minor": 0
}